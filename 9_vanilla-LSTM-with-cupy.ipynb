{
 "cells": [
  {
   "cell_type": "markdown",
   "metadata": {},
   "source": [
    "# Vanilla LSTM with CuPy\n",
    "\n",
    "This is a port of [Vanilla LSTM with numpy](http://blog.varunajayasiri.com/numpy_lstm.html) that shows how to run the numpy-based machine learning code on GPU using [CuPy](https://github.com/cupy/cupy). The all contents below is basically copied from the article: [Vanilla LSTM with numpy](http://blog.varunajayasiri.com/numpy_lstm.html).\n",
    "\n",
    "This is inspired from [Minimal character-level language model with a Vanilla Recurrent Neural Network](https://gist.github.com/karpathy/d4dee566867f8291f086), in Python/numpy by [Andrej Karpathy](https://github.com/karpathy).\n",
    "\n",
    "The model usually reaches an error of about 45 after 5000 iterations when tested with [100,000 character sample from Shakespeare](http://cs.stanford.edu/people/karpathy/char-rnn/shakespear.txt). However it sometimes get stuck in a local minima; reinitialize the weights if this happens.\n",
    "\n",
    "You need to place the input text file as `input.txt` in the same folder as the python code."
   ]
  },
  {
   "cell_type": "markdown",
   "metadata": {},
   "source": [
    "## Download data"
   ]
  },
  {
   "cell_type": "code",
   "execution_count": 1,
   "metadata": {},
   "outputs": [
    {
     "name": "stderr",
     "output_type": "stream",
     "text": [
      "  % Total    % Received % Xferd  Average Speed   Time    Time     Time  Current\n",
      "                                 Dload  Upload   Total   Spent    Left  Speed\n",
      "\r",
      "  0     0    0     0    0     0      0      0 --:--:-- --:--:-- --:--:--     0\r",
      "100 99993  100 99993    0     0  70182      0  0:00:01  0:00:01 --:--:--  149k\n"
     ]
    }
   ],
   "source": [
    "%%bash\n",
    "curl -L http://cs.stanford.edu/people/karpathy/char-rnn/shakespear.txt -o input.txt"
   ]
  },
  {
   "cell_type": "markdown",
   "metadata": {},
   "source": [
    "## Imports"
   ]
  },
  {
   "cell_type": "code",
   "execution_count": 2,
   "metadata": {
    "collapsed": true
   },
   "outputs": [],
   "source": [
    "import numpy as np\n",
    "%matplotlib inline\n",
    "import matplotlib.pyplot as plt\n",
    "from IPython import display\n",
    "\n",
    "np.random.seed(2017)"
   ]
  },
  {
   "cell_type": "markdown",
   "metadata": {},
   "source": [
    "The above imports are from the original article as is. But in this article, you can run almost all computation on GPU by just replacing `np` with `cp`. Well, `cp` is just another name of `cupy`."
   ]
  },
  {
   "cell_type": "code",
   "execution_count": 3,
   "metadata": {
    "collapsed": true
   },
   "outputs": [],
   "source": [
    "import cupy as cp\n",
    "\n",
    "cp.random.seed(2017)"
   ]
  },
  {
   "cell_type": "markdown",
   "metadata": {},
   "source": [
    "To show the difference of computational time by switching CPU and GPU simply, let's use `xp` instead of `np` and switch the referenced package between `numpy` and `cupy`."
   ]
  },
  {
   "cell_type": "code",
   "execution_count": 4,
   "metadata": {
    "collapsed": true
   },
   "outputs": [],
   "source": [
    "# If you use CPU\n",
    "# xp = np\n",
    "\n",
    "# If you use GPU: almost 2 times faster\n",
    "xp = cp"
   ]
  },
  {
   "cell_type": "markdown",
   "metadata": {},
   "source": [
    "**Because CuPy has high compatibility with NumPy, the same code using NumPy is easily converted for CuPy by just replacing `numpy` with `cupy`**."
   ]
  },
  {
   "cell_type": "markdown",
   "metadata": {},
   "source": [
    "**Note:**\n",
    "\n",
    "If the `H_size` is larger than 1000 or so, training on GPU, namely, using CuPy is several times faster than NumPy. But when the array size is small, the speed gain is often small."
   ]
  },
  {
   "cell_type": "markdown",
   "metadata": {},
   "source": [
    "## Read and process data"
   ]
  },
  {
   "cell_type": "code",
   "execution_count": 5,
   "metadata": {
    "collapsed": true
   },
   "outputs": [],
   "source": [
    "data = open('input.txt', 'r').read()"
   ]
  },
  {
   "cell_type": "markdown",
   "metadata": {},
   "source": [
    "#### Process data and calculate indexes"
   ]
  },
  {
   "cell_type": "code",
   "execution_count": 6,
   "metadata": {},
   "outputs": [
    {
     "name": "stdout",
     "output_type": "stream",
     "text": [
      "data has 99993 characters, 62 unique\n"
     ]
    }
   ],
   "source": [
    "chars = list(set(data))\n",
    "data_size, X_size = len(data), len(chars)\n",
    "print(\"data has %d characters, %d unique\" % (data_size, X_size))\n",
    "char_to_idx = {ch:i for i,ch in enumerate(chars)}\n",
    "idx_to_char = {i:ch for i,ch in enumerate(chars)}"
   ]
  },
  {
   "cell_type": "markdown",
   "metadata": {},
   "source": [
    "## Parameters"
   ]
  },
  {
   "cell_type": "code",
   "execution_count": 7,
   "metadata": {
    "collapsed": true
   },
   "outputs": [],
   "source": [
    "H_size = 100 # Size of the hidden layer\n",
    "T_steps = 25 # Number of time steps (length of the sequence) used for training\n",
    "learning_rate = 1e-1 # Learning rate\n",
    "weight_sd = 0.1 # Standard deviation of weights for initialization\n",
    "z_size = H_size + X_size # Size of concatenate(H, X) vector"
   ]
  },
  {
   "cell_type": "markdown",
   "metadata": {},
   "source": [
    "## Activation Functions and Derivatives\n",
    "\n",
    "### Sigmoid\n",
    "\n",
    "$$\n",
    "\\begin{eqnarray}\n",
    "\\sigma(x) &=& \\frac{1}{1 + e^{-x}} \\\\\n",
    "\\frac{d \\sigma(x)}{d x} &=& \\sigma(x) \\cdot (1 - \\sigma(x))\n",
    "\\end{eqnarray}\n",
    "$$\n",
    "\n",
    "### Tanh\n",
    "\n",
    "$$\n",
    "\\frac{d \\tanh(x)}{dx} = 1 - \\tanh^2(x)\n",
    "$$"
   ]
  },
  {
   "cell_type": "code",
   "execution_count": 8,
   "metadata": {
    "collapsed": true
   },
   "outputs": [],
   "source": [
    "def sigmoid(x):\n",
    "    return 1 / (1 + xp.exp(-x))\n",
    "\n",
    "\n",
    "def dsigmoid(y):\n",
    "    return y * (1 - y)\n",
    "\n",
    "\n",
    "def tanh(x):\n",
    "    return xp.tanh(x)\n",
    "\n",
    "\n",
    "def dtanh(y):\n",
    "    return 1 - y * y"
   ]
  },
  {
   "cell_type": "markdown",
   "metadata": {},
   "source": [
    "## Initialize weights\n",
    "\n",
    "We use random weights with normal distribution `(0, weight_sd)` for `tanh` activation function and `(0.5, weight_sd)` for `sigmoid` activation function.\n",
    "\n",
    "Biases are initialized to zeros.\n",
    "\n",
    "Formulae for LSTM are shown below."
   ]
  },
  {
   "cell_type": "code",
   "execution_count": 9,
   "metadata": {
    "collapsed": true
   },
   "outputs": [],
   "source": [
    "W_f = (xp.random.randn(H_size, z_size) * weight_sd + 0.5).astype(xp.float32)\n",
    "b_f = xp.zeros((H_size, 1), dtype=xp.float32)\n",
    "\n",
    "W_i = (xp.random.randn(H_size, z_size) * weight_sd + 0.5).astype(xp.float32)\n",
    "b_i = xp.zeros((H_size, 1), dtype=xp.float32)\n",
    "\n",
    "W_C = (xp.random.randn(H_size, z_size) * weight_sd).astype(xp.float32)\n",
    "b_C = xp.zeros((H_size, 1), dtype=xp.float32)\n",
    "\n",
    "W_o = (xp.random.randn(H_size, z_size) * weight_sd + 0.5).astype(xp.float32)\n",
    "b_o = xp.zeros((H_size, 1), dtype=xp.float32)\n",
    "\n",
    "#For final layer to predict the next character\n",
    "W_y = (xp.random.randn(X_size, H_size) * weight_sd).astype(xp.float32)\n",
    "b_y = xp.zeros((X_size, 1))"
   ]
  },
  {
   "cell_type": "markdown",
   "metadata": {},
   "source": [
    "## Gradients"
   ]
  },
  {
   "cell_type": "code",
   "execution_count": 10,
   "metadata": {
    "collapsed": true
   },
   "outputs": [],
   "source": [
    "dW_f = xp.zeros_like(W_f, dtype=xp.float32)\n",
    "dW_i = xp.zeros_like(W_i, dtype=xp.float32)\n",
    "dW_C = xp.zeros_like(W_C, dtype=xp.float32)\n",
    "\n",
    "dW_o = xp.zeros_like(W_o, dtype=xp.float32)\n",
    "dW_y = xp.zeros_like(W_y, dtype=xp.float32)\n",
    "\n",
    "db_f = xp.zeros_like(b_f, dtype=xp.float32)\n",
    "db_i = xp.zeros_like(b_i, dtype=xp.float32)\n",
    "db_C = xp.zeros_like(b_C, dtype=xp.float32)\n",
    "\n",
    "db_o = xp.zeros_like(b_o, dtype=xp.float32)\n",
    "db_y = xp.zeros_like(b_y, dtype=xp.float32)"
   ]
  },
  {
   "cell_type": "markdown",
   "metadata": {},
   "source": [
    "### Forward pass\n",
    "\n",
    "![](http://colah.github.io/posts/2015-08-Understanding-LSTMs/img/LSTM3-chain.png)\n",
    "\n",
    "Image taken from [Understanding LSTM Networks](http://colah.github.io/posts/2015-08-Understanding-LSTMs/). Please read the article for a good explanation of LSTMs.\n",
    "\n",
    "### Concatenation of $h_{t-1}$ and $x_t$\n",
    "\n",
    "$$\n",
    "z = [h_{t-1}, x_t]\n",
    "$$\n",
    "\n",
    "### LSTM functions\n",
    "\n",
    "$$\n",
    "\\begin{eqnarray}\n",
    "f_t &=& \\sigma(W_f \\cdot z + b_f) \\\\\n",
    "i_t &=& \\sigma(W_i \\cdot z + b_i) \\\\\n",
    "\\bar{C}_t &=& \\tanh(W_C \\cdot z + b_C) \\\\\n",
    "C_t &=& f_t \\ast C_{t-1} + i_t \\ast \\bar{C}_t \\\\\n",
    "o_t &=& \\sigma(W_O \\cdot z + b_t) \\\\\n",
    "h_t &=& o_t \\ast \\tanh(C_t)\n",
    "\\end{eqnarray}\n",
    "$$\n",
    "\n",
    "### Logits\n",
    "\n",
    "$$\n",
    "y_t = W_y \\cdot h_t + b_y\n",
    "$$\n",
    "\n",
    "### Softmax\n",
    "\n",
    "$$\n",
    "\\hat{p}_t = {\\rm softmax}(y_t)\n",
    "$$\n",
    "\n",
    "$\\hat{p}_t$ is `p` in code and $p_t$ is `targets`."
   ]
  },
  {
   "cell_type": "code",
   "execution_count": 11,
   "metadata": {
    "collapsed": true
   },
   "outputs": [],
   "source": [
    "def forward(x, h_prev, C_prev):\n",
    "    assert x.shape == (X_size, 1)\n",
    "    assert h_prev.shape == (H_size, 1)\n",
    "    assert C_prev.shape == (H_size, 1)\n",
    "\n",
    "    z = xp.concatenate((h_prev, x))\n",
    "    f = sigmoid(xp.dot(W_f, z) + b_f)\n",
    "    i = sigmoid(xp.dot(W_i, z) + b_i)\n",
    "    C_bar = tanh(xp.dot(W_C, z) + b_C)\n",
    "\n",
    "    C = f * C_prev + i * C_bar\n",
    "    o = sigmoid(xp.dot(W_o, z) + b_o)\n",
    "    h = o * tanh(C)\n",
    "\n",
    "    y = xp.dot(W_y, h) + b_y\n",
    "    y -= y.max()\n",
    "    p = xp.exp(y) / xp.sum(xp.exp(y))\n",
    "\n",
    "    return z, f, i, C_bar, C, o, h, y, p"
   ]
  },
  {
   "cell_type": "markdown",
   "metadata": {},
   "source": [
    "## Backward pass\n",
    "\n",
    "### Loss\n",
    "\n",
    "$$\n",
    "\\mathcal{L} = - \\sum p_{t,j}log \\hat{p}_{t,j}\n",
    "$$\n",
    "\n",
    "### Gradients\n",
    "\n",
    "$$\n",
    "\\begin{eqnarray}\n",
    "dy_t &=& \\hat{p}_t - p_t \\\\\n",
    "dh_t &=& dh'_{t+1} + W_y^T \\cdot d_y \\\\\n",
    "do_t &=& dh_t \\ast \\tanh (C_t) \\\\\n",
    "dC_t &=& dC'_{t+q} + dh_t \\ast o_t \\ast (1 - \\tanh^2(C_t)) \\\\\n",
    "d \\bar{C}_t &=& d C_t \\ast i_t \\\\\n",
    "d i_t &=& d C_t \\ast \\bar{C}_t \\\\\n",
    "d f_t &=& d C_t \\ast C_{t-1} \\\\\n",
    "d z_t &=& W_f^T \\cdot df_t + W_i^T \\cdot di_t + W_C^T \\cdot \\bar{C}_t + W^T_o \\cdot do_t \\\\\n",
    "[dh'_t, dx_t] &=& dz_t \\\\\n",
    "dC'_t &=& f \\ast dC_t\n",
    "\\end{eqnarray}\n",
    "$$\n",
    "\n",
    "- `target` is target character index $p_t$\n",
    "- `dh_next` is $dh_{t+1}$ (size $H \\times 1$)\n",
    "- `dC_next` is $dC_{t+1}$ (size $H \\times 1$)\n",
    "- `C_prev` is $C_{t-1}$ (size $H \\times 1$)\n",
    "- Returns $dh_t$ and $dC_t$"
   ]
  },
  {
   "cell_type": "code",
   "execution_count": 12,
   "metadata": {
    "collapsed": true
   },
   "outputs": [],
   "source": [
    "def backward(target, dh_next, dC_next, C_prev, z, f, i, C_bar, C, o, h, y, p):\n",
    "\n",
    "    global dW_f, dW_i, dW_C, dW_o, dW_y\n",
    "    global db_f, db_i, db_C, db_o, db_y\n",
    "\n",
    "    assert z.shape == (X_size + H_size, 1)\n",
    "    assert y.shape == (X_size, 1)\n",
    "    assert p.shape == (X_size, 1)\n",
    "\n",
    "    for param in [dh_next, dC_next, C_prev, f, i, C_bar, C, o, h]:\n",
    "        assert param.shape == (H_size, 1)\n",
    "\n",
    "    dy = xp.copy(p)\n",
    "    dy[target] -= 1\n",
    "\n",
    "    dW_y += xp.dot(dy, h.T)\n",
    "    db_y += dy\n",
    "\n",
    "    dh = xp.dot(W_y.T, dy)\n",
    "    dh += dh_next\n",
    "    do = dh * tanh(C)\n",
    "    do = dsigmoid(o) * do\n",
    "    dW_o += xp.dot(do, z.T)\n",
    "    db_o += do\n",
    "\n",
    "    dC = xp.copy(dC_next)\n",
    "    dC += dh * o * dtanh(tanh(C))\n",
    "    dC_bar = dC * i\n",
    "    dC_bar = dC_bar * dtanh(C_bar)\n",
    "    dW_C += xp.dot(dC_bar, z.T)\n",
    "    db_C += dC_bar\n",
    "\n",
    "    di = dC * C_bar\n",
    "    di = dsigmoid(i) * di\n",
    "    dW_i += xp.dot(di, z.T)\n",
    "    db_i += di\n",
    "\n",
    "    df = dC * C_prev\n",
    "    df = dsigmoid(f) * df\n",
    "    dW_f += xp.dot(df, z.T)\n",
    "    db_f += df\n",
    "\n",
    "    dz = xp.dot(W_f.T, df) \\\n",
    "        + xp.dot(W_i.T, di) \\\n",
    "        + xp.dot(W_C.T, dC_bar) \\\n",
    "        + xp.dot(W_o.T, do)\n",
    "    dh_prev = dz[:H_size, :]\n",
    "    dC_prev = f * dC\n",
    "\n",
    "    return dh_prev, dC_prev"
   ]
  },
  {
   "cell_type": "markdown",
   "metadata": {},
   "source": [
    "## Forward Backward Pass\n",
    "\n",
    "Calculate and store the values in forward pass. Accumulate gradients in backward pass and clip gradients to avoid exploding gradients.\n",
    "\n",
    "- `input`, `target` are list of integers, with character indexes.\n",
    "- `h_prev` is the array of initial `h` at $h_1$ (size $H \\times 1$)\n",
    "- `C_prev` is the array of initial `C` at $C_1$ (size $H \\times 1$)\n",
    "- Returns loss, final $h_T$ and $C_T$"
   ]
  },
  {
   "cell_type": "code",
   "execution_count": 13,
   "metadata": {
    "collapsed": true
   },
   "outputs": [],
   "source": [
    "def forward_backward(inputs, targets, h_prev, C_prev):\n",
    "    # To store the values for each time step\n",
    "    x_s, z_s, f_s, i_s, C_bar_s, C_s, o_s, h_s, y_s, p_s = {}, {}, {}, {}, {}, {}, {}, {}, {}, {}\n",
    "\n",
    "    # Values at t - 1\n",
    "    h_s[-1] = xp.copy(h_prev)\n",
    "    C_s[-1] = xp.copy(C_prev)\n",
    "\n",
    "    loss = 0\n",
    "    # Loop through time steps\n",
    "    assert len(inputs) == T_steps\n",
    "    for t in range(len(inputs)):\n",
    "        x_s[t] = xp.zeros((X_size, 1), dtype=xp.float32)\n",
    "        x_s[t][inputs[t]] = 1 # Input character\n",
    "\n",
    "        z_s[t], f_s[t], i_s[t], C_bar_s[t], C_s[t], o_s[t], h_s[t], y_s[t], p_s[t] \\\n",
    "            = forward(x_s[t], h_s[t - 1], C_s[t - 1]) # Forward pass\n",
    "\n",
    "        loss += -xp.log(p_s[t][targets[t], 0]) # Loss for at t\n",
    "\n",
    "\n",
    "    for dparam in [dW_f, dW_i, dW_C, dW_o, dW_y, db_f, db_i, db_C, db_o, db_y]:\n",
    "        dparam.fill(0)\n",
    "\n",
    "    dh_next = xp.zeros_like(h_s[0], dtype=xp.float32) #dh from the next character\n",
    "    dC_next = xp.zeros_like(C_s[0], dtype=xp.float32) #dh from the next character\n",
    "\n",
    "    for t in reversed(range(len(inputs))):\n",
    "        # Backward pass\n",
    "        dh_next, dC_next = backward(target = targets[t], dh_next = dh_next, dC_next = dC_next, C_prev = C_s[t-1],\n",
    "                 z = z_s[t], f = f_s[t], i = i_s[t], C_bar = C_bar_s[t], C = C_s[t], o = o_s[t],\n",
    "                 h = h_s[t], y = y_s[t], p = p_s[t])\n",
    "\n",
    "    # Clip gradients to mitigate exploding gradients\n",
    "    for dparam in [dW_f, dW_i, dW_C, dW_o, dW_y, db_f, db_i, db_C, db_o, db_y]:\n",
    "        xp.clip(dparam, -1, 1, out=dparam)\n",
    "\n",
    "    return loss, h_s[len(inputs) - 1], C_s[len(inputs) - 1]"
   ]
  },
  {
   "cell_type": "markdown",
   "metadata": {},
   "source": [
    "## Sample the next character"
   ]
  },
  {
   "cell_type": "code",
   "execution_count": 14,
   "metadata": {
    "collapsed": true
   },
   "outputs": [],
   "source": [
    "def sample(h_prev, C_prev, first_char_idx, sentence_length):\n",
    "    x = xp.zeros((X_size, 1))\n",
    "    x[first_char_idx] = 1\n",
    "\n",
    "    h = h_prev\n",
    "    C = C_prev\n",
    "\n",
    "    indexes = []\n",
    "    for t in range(sentence_length):\n",
    "        _, _, _, _, C, _, h, _, p = forward(x, h, C)\n",
    "        assert xp.all(p.ravel() >= 0)\n",
    "        idx = xp.random.choice(xp.arange(X_size), size=(1,), p=p.ravel())[0]\n",
    "        x = xp.zeros((X_size, 1), dtype=xp.float32)\n",
    "        x[idx] = 1\n",
    "        indexes.append(int(idx))\n",
    "\n",
    "    return indexes"
   ]
  },
  {
   "cell_type": "markdown",
   "metadata": {},
   "source": [
    "## Training (Adagrad)\n",
    "\n",
    "$$\n",
    "w = w - \\eta \\frac{dw}{\\sum dw^2_{\\tau}}\n",
    "$$"
   ]
  },
  {
   "cell_type": "code",
   "execution_count": 15,
   "metadata": {
    "collapsed": true
   },
   "outputs": [],
   "source": [
    "def update_status(inputs, h_prev, C_prev):\n",
    "    #initialized later\n",
    "    global plot_iter, plot_loss\n",
    "    global smooth_loss\n",
    "\n",
    "    # Get predictions for 200 letters with current model\n",
    "    display.clear_output(wait=True)\n",
    "\n",
    "    sample_idx = sample(h_prev, C_prev, inputs[0], 200)\n",
    "    txt = ''.join(idx_to_char[idx] for idx in sample_idx)\n",
    "\n",
    "    # Clear and plot\n",
    "    plt.clf()\n",
    "    plt.plot(plot_iter, plot_loss)\n",
    "    display.display(plt.gcf())\n",
    "\n",
    "    #Print prediction and loss\n",
    "    print(\"----\\n %s \\n----\" % (txt, ))\n",
    "    print(\"iter %d, loss %f\" % (iteration, smooth_loss))"
   ]
  },
  {
   "cell_type": "markdown",
   "metadata": {},
   "source": [
    "Memory variables for Adagrad"
   ]
  },
  {
   "cell_type": "code",
   "execution_count": 16,
   "metadata": {},
   "outputs": [],
   "source": [
    "mW_f = xp.zeros_like(W_f, dtype=xp.float32)\n",
    "mW_i = xp.zeros_like(W_i, dtype=xp.float32)\n",
    "mW_C = xp.zeros_like(W_C, dtype=xp.float32)\n",
    "mW_o = xp.zeros_like(W_o, dtype=xp.float32)\n",
    "mW_y = xp.zeros_like(W_y, dtype=xp.float32)\n",
    "\n",
    "mb_f = xp.zeros_like(b_f, dtype=xp.float32)\n",
    "mb_i = xp.zeros_like(b_i, dtype=xp.float32)\n",
    "mb_C = xp.zeros_like(b_C, dtype=xp.float32)\n",
    "mb_o = xp.zeros_like(b_o, dtype=xp.float32)\n",
    "mb_y = xp.zeros_like(b_y, dtype=xp.float32)"
   ]
  },
  {
   "cell_type": "code",
   "execution_count": 17,
   "metadata": {
    "collapsed": true
   },
   "outputs": [],
   "source": [
    "# Exponential average of loss\n",
    "# Initialize to a error of a random model\n",
    "smooth_loss = (-xp.log(1.0 / X_size) * T_steps).astype(xp.float32)\n",
    "\n",
    "iteration, p = 0, 0\n",
    "\n",
    "# For the graph\n",
    "plot_iter = np.zeros((0))\n",
    "plot_loss = np.zeros((0))"
   ]
  },
  {
   "cell_type": "code",
   "execution_count": 18,
   "metadata": {
    "scrolled": false
   },
   "outputs": [
    {
     "data": {
      "image/png": "[encoded data removed]",
      "text/plain": [
       "<matplotlib.figure.Figure at 0x7f0a4f11dcc0>"
      ]
     },
     "metadata": {},
     "output_type": "display_data"
    },
    {
     "name": "stdout",
     "output_type": "stream",
     "text": [
      "----\n",
      " outhant her abnuck a casthantes Pandors,\n",
      "Are you corpore; surt is. in\n",
      "Is boo all you\n",
      "\n",
      "KLUS:\n",
      "Goke to knowt but, he have be pedaen lost'd Cold led. Ravert was, soperen, but brous.\n",
      "\n",
      "KIN:\n",
      "-flak\n",
      "Thym;,\n",
      "Wit \n",
      "----\n",
      "iter 6000, loss 49.692995\n",
      "CPU times: user 12min 4s, sys: 15.6 s, total: 12min 19s\n",
      "Wall time: 12min 21s\n"
     ]
    },
    {
     "data": {
      "image/png": "[encoded data removed]",
      "text/plain": [
       "<matplotlib.figure.Figure at 0x7f0a4f11dcc0>"
      ]
     },
     "metadata": {},
     "output_type": "display_data"
    }
   ],
   "source": [
    "%%time\n",
    "while True:\n",
    "    # Try catch for interruption\n",
    "    try:\n",
    "        # Reset\n",
    "        if p + T_steps >= len(data) or iteration == 0:\n",
    "            g_h_prev = xp.zeros((H_size, 1), dtype=xp.float32)\n",
    "            g_C_prev = xp.zeros((H_size, 1), dtype=xp.float32)\n",
    "            p = 0\n",
    "\n",
    "        inputs = [char_to_idx[ch] for ch in data[p: p + T_steps]]\n",
    "        targets = [char_to_idx[ch] for ch in data[p + 1: p + T_steps + 1]]\n",
    "\n",
    "        loss, g_h_prev, g_C_prev =  forward_backward(inputs, targets, g_h_prev, g_C_prev)\n",
    "        smooth_loss = smooth_loss * 0.999 + loss * 0.001\n",
    "\n",
    "        # Print every hundred steps\n",
    "        if iteration % 100 == 0:\n",
    "            update_status(inputs, g_h_prev, g_C_prev)\n",
    "\n",
    "        # Update weights\n",
    "        for param, dparam, mem in zip([W_f, W_i, W_C, W_o, W_y, b_f, b_i, b_C, b_o, b_y],\n",
    "                                      [dW_f, dW_i, dW_C, dW_o, dW_y, db_f, db_i, db_C, db_o, db_y],\n",
    "                                      [mW_f, mW_i, mW_C, mW_o, mW_y, mb_f, mb_i, mb_C, mb_o, mb_y]):\n",
    "            mem += dparam * dparam # Calculate sum of gradients\n",
    "            #print(learning_rate * dparam)\n",
    "            param += -(learning_rate * dparam / xp.sqrt(mem + 1e-8))\n",
    "\n",
    "        plot_iter = np.append(plot_iter, [iteration])\n",
    "        if isinstance(loss, cp.ndarray):\n",
    "            loss = loss.get()\n",
    "        plot_loss = np.append(plot_loss, [loss])\n",
    "\n",
    "        p += T_steps\n",
    "        iteration += 1\n",
    "        if iteration > 6000:\n",
    "            break\n",
    "    except KeyboardInterrupt:\n",
    "        update_status(inputs, g_h_prev, g_C_prev)\n",
    "        break"
   ]
  },
  {
   "cell_type": "markdown",
   "metadata": {},
   "source": [
    "## Gradient Check\n",
    "\n",
    "Approximate the numerical gradients by changing parameters and running the model. Check if the approximated gradients are equal to the computed analytical gradients (by backpropagation).\n",
    "\n",
    "Try this on `num_checks` individual paramters picked randomly for each weight matrix and bias vector."
   ]
  },
  {
   "cell_type": "code",
   "execution_count": 19,
   "metadata": {
    "collapsed": true
   },
   "outputs": [],
   "source": [
    "from random import uniform\n",
    "\n",
    "\n",
    "def gradient_check(inputs, target, h_prev, C_prev):\n",
    "    global W_f, W_i, W_C, W_o, W_y, b_f, b_i, b_C, b_o, b_y\n",
    "    global dW_f, dW_i, dW_C, dW_o, dW_y, db_f, db_i, db_C, db_o, db_y\n",
    "\n",
    "    num_checks = 10 # Number of parameters to test\n",
    "    delta = 1e-5 # The change to make on the parameter\n",
    "\n",
    "    # To calculate computed gradients\n",
    "    _, _, _ =  forward_backward(inputs, targets, h_prev, C_prev)\n",
    "\n",
    "    for param, dparam, name in zip([W_f, W_i, W_C, W_o, W_y, b_f, b_i, b_C, b_o, b_y],\n",
    "                                 [dW_f, dW_i, dW_C, dW_o, dW_y, db_f, db_i, db_C, db_o, db_y],\n",
    "                                 ['W_f', 'W_i', 'W_C', 'W_o', 'W_y', 'b_f', 'b_i', 'b_C', 'b_o', 'b_y']):\n",
    "        assert param.shape == dparam.shape\n",
    "        dparam_copy = xp.copy(dparam) #Make a copy because this will get modified\n",
    "\n",
    "        # Test num_checks times\n",
    "        for i in range(num_checks):\n",
    "            # Pick a random index\n",
    "            rnd_idx = int(uniform(0,param.size))\n",
    "\n",
    "            # evaluate cost at [x + delta] and [x - delta]\n",
    "            old_val = xp.ravel(param)[rnd_idx]\n",
    "            xp.ravel(param)[rnd_idx] = old_val + delta\n",
    "            loss_plus_delta, _, _ = forward_backward(inputs, targets, h_prev, C_prev)\n",
    "            xp.ravel(param)[rnd_idx] = old_val - delta\n",
    "            loss_mins_delta, _, _ = forward_backward(inputs, targets, h_prev, C_prev)\n",
    "            xp.ravel(param)[rnd_idx] = old_val\n",
    "\n",
    "            grad_analytical = xp.ravel(dparam_copy)[rnd_idx]\n",
    "            grad_numerical = (loss_plus_delta - loss_mins_delta) / (2 * delta)\n",
    "            # Clip numerical error because grad_analytical is clipped\n",
    "            grad_numerical = xp.clip(grad_numerical, -1, 1)\n",
    "\n",
    "\n",
    "            err_sum = abs(grad_numerical + grad_analytical) + 1e-09\n",
    "            rel_error = abs(grad_analytical - grad_numerical) / err_sum\n",
    "\n",
    "            # If relative error is greater than 1e-06\n",
    "            if rel_error > 1e-06:\n",
    "                print('%s (%e, %e) => %e' % (name, grad_numerical, grad_analytical, rel_error))    "
   ]
  },
  {
   "cell_type": "code",
   "execution_count": 20,
   "metadata": {},
   "outputs": [
    {
     "name": "stdout",
     "output_type": "stream",
     "text": [
      "W_f (-5.788818e-03, -1.894525e-03) => 5.068488e-01\n",
      "W_f (-4.424725e-03, -2.570756e-03) => 2.650237e-01\n",
      "W_f (-1.574892e-02, 3.109146e-04) => 1.040279e+00\n",
      "W_f (2.522772e-02, -2.049634e-05) => 1.001626e+00\n",
      "W_f (-2.772584e-02, -3.596031e-04) => 9.743922e-01\n",
      "W_f (-9.696586e-02, -3.551726e-02) => 4.638221e-01\n",
      "W_f (-1.919746e-02, -4.452238e-05) => 9.953723e-01\n",
      "W_i (-2.128421e-02, -1.987336e-03) => 8.292046e-01\n",
      "W_i (-9.618537e-03, -1.770927e-03) => 6.890236e-01\n",
      "W_i (-5.882980e-02, 1.477409e-03) => 1.051520e+00\n",
      "W_i (-4.811230e-02, -8.973669e-03) => 6.856085e-01\n",
      "W_i (-2.069689e-02, 2.397710e-03) => 1.262057e+00\n",
      "W_C (-9.150008e-03, -4.846476e-03) => 3.074723e-01\n",
      "W_C (-5.384253e-02, 3.501519e-03) => 1.139112e+00\n",
      "W_C (0.000000e+00, 1.724286e-05) => 9.999420e-01\n",
      "W_C (-3.551228e-02, -4.914250e-03) => 7.568799e-01\n",
      "W_C (0.000000e+00, 2.751392e-05) => 9.999637e-01\n",
      "W_C (-2.206686e-02, 1.656087e-04) => 1.015123e+00\n",
      "W_C (-4.734427e-03, 3.258538e-02) => 1.339983e+00\n",
      "W_C (5.200395e-03, 4.812866e-02) => 8.049695e-01\n",
      "W_o (1.664602e-02, 1.216984e-02) => 1.553371e-01\n",
      "W_o (-3.094253e-03, -1.786075e-02) => 7.046765e-01\n",
      "W_y (5.069651e-05, 9.411758e-05) => 2.998380e-01\n",
      "W_y (1.354294e-06, 3.190190e-06) => 4.038944e-01\n",
      "W_y (-1.707993e-01, -3.533963e-01) => 3.483377e-01\n",
      "W_y (-3.616201e-05, -6.439822e-05) => 2.807863e-01\n",
      "W_y (1.045780e-04, 2.551565e-04) => 4.185810e-01\n",
      "W_y (-7.008616e-05, -6.961373e-05) => 3.381729e-03\n",
      "W_y (-1.320173e-03, -3.049548e-03) => 3.957632e-01\n",
      "W_y (-2.135536e-05, -5.128610e-05) => 4.120281e-01\n",
      "W_y (-3.736993e-05, -3.475788e-05) => 3.621374e-02\n",
      "W_y (4.692321e-03, 1.760141e-02) => 5.790457e-01\n",
      "b_f (9.625265e-02, 1.281972e-01) => 1.423236e-01\n",
      "b_f (-1.711278e-02, -8.734714e-03) => 3.241346e-01\n",
      "b_f (-6.363861e-02, -9.571880e-02) => 2.013097e-01\n",
      "b_f (-1.353493e-01, -2.709278e-01) => 3.337093e-01\n",
      "b_f (1.295448e-01, 2.294842e-01) => 2.783604e-01\n",
      "b_f (0.000000e+00, 1.190781e-05) => 9.999160e-01\n",
      "b_f (-1.097183e-02, 2.446750e-02) => 2.625979e+00\n",
      "b_f (6.660086e-03, 1.548321e-01) => 9.175182e-01\n",
      "b_f (-3.765070e-02, -1.929383e-03) => 9.025073e-01\n",
      "b_f (8.172772e-03, -1.733225e-02) => 2.784549e+00\n",
      "b_i (-1.797925e-02, 3.960431e-03) => 1.565016e+00\n",
      "b_i (2.327358e-04, 1.566012e-02) => 9.707118e-01\n",
      "b_i (3.910756e-05, 1.577477e-02) => 9.950540e-01\n",
      "b_i (-1.699091e-01, -2.288668e-01) => 1.478467e-01\n",
      "b_i (-7.337276e-02, -9.197736e-02) => 1.125164e-01\n",
      "b_i (-3.058013e-02, 9.644181e-03) => 1.921303e+00\n",
      "b_i (6.721953e-02, 1.486464e-01) => 3.772104e-01\n",
      "b_i (-8.904879e-02, -5.259708e-02) => 2.573440e-01\n",
      "b_i (-8.196457e-02, -5.133832e-02) => 2.297493e-01\n",
      "b_i (-1.127150e-02, 2.934633e-03) => 1.704013e+00\n",
      "b_C (-8.878277e-02, -9.282753e-02) => 2.227166e-02\n",
      "b_C (-1.053689e-01, -2.198471e-01) => 3.520066e-01\n",
      "b_C (-1.254594e-01, -1.306037e-01) => 2.008990e-02\n",
      "b_C (-8.069183e-03, 4.495833e-02) => 1.437483e+00\n",
      "b_C (1.315191e-01, 3.286199e-01) => 4.283507e-01\n",
      "b_C (-2.857717e-01, -5.199677e-01) => 2.906598e-01\n",
      "b_C (-3.367491e-01, -5.167727e-01) => 2.109186e-01\n",
      "b_C (-8.336149e-02, -2.002720e-01) => 4.121887e-01\n",
      "b_C (-2.030515e-01, -2.748539e-01) => 1.502439e-01\n",
      "b_C (-2.615591e-01, -5.192239e-01) => 3.300082e-01\n",
      "b_o (-1.828830e-01, -3.566602e-01) => 3.220820e-01\n",
      "b_o (-6.164580e-02, -6.660104e-02) => 3.863832e-02\n",
      "b_o (3.400145e-03, 4.486300e-02) => 8.590997e-01\n",
      "b_o (-8.065856e-02, 1.755721e-02) => 1.556476e+00\n",
      "b_o (-3.057445e-02, -1.059484e-02) => 4.853036e-01\n",
      "b_o (-6.164580e-02, -6.660104e-02) => 3.863832e-02\n",
      "b_o (-7.878454e-03, 8.931704e-03) => 1.596026e+01\n",
      "b_o (-3.220456e-02, 8.119028e-03) => 1.674183e+00\n",
      "b_o (-1.044374e-01, -1.323533e-01) => 1.178925e-01\n",
      "b_o (-1.055425e-01, -1.247781e-01) => 8.351679e-02\n",
      "b_y (4.384235e-02, 8.768427e-02) => 3.333312e-01\n",
      "b_y (7.502261e-03, 1.500445e-02) => 3.333311e-01\n",
      "b_y (-1.380362e-01, -2.760797e-01) => 3.333449e-01\n",
      "b_y (2.693329e-01, 5.386631e-01) => 3.333312e-01\n",
      "b_y (3.615790e-03, 7.231543e-03) => 3.333311e-01\n",
      "b_y (-2.748632e-01, -5.497285e-01) => 3.333350e-01\n",
      "b_y (-1.380362e-01, -2.760797e-01) => 3.333449e-01\n",
      "b_y (-1.380362e-01, -2.760797e-01) => 3.333449e-01\n",
      "b_y (8.233201e-05, 1.646628e-04) => 3.333287e-01\n",
      "b_y (8.127466e-02, 1.625486e-01) => 3.333313e-01\n"
     ]
    }
   ],
   "source": [
    "gradient_check(inputs, targets, g_h_prev, g_C_prev)"
   ]
  }
 ],
 "metadata": {
  "kernelspec": {
   "display_name": "Python 3",
   "language": "python",
   "name": "python3"
  },
  "language_info": {
   "codemirror_mode": {
    "name": "ipython",
    "version": 3
   },
   "file_extension": ".py",
   "mimetype": "text/x-python",
   "name": "python",
   "nbconvert_exporter": "python",
   "pygments_lexer": "ipython3",
   "version": "3.6.1"
  }
 },
 "nbformat": 4,
 "nbformat_minor": 2
}
