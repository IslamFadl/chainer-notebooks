{
 "cells": [
  {
   "cell_type": "markdown",
   "metadata": {},
   "source": [
    "# ChainerRL Quickstart Guide\n",
    "\n",
    "This is a quickstart guide for users who just want to try ChainerRL for the first time.\n",
    "\n",
    "If you have not yet installed ChainerRL, run the command below to install it:"
   ]
  },
  {
   "cell_type": "code",
   "execution_count": 1,
   "metadata": {
    "collapsed": false
   },
   "outputs": [
    {
     "name": "stdout",
     "output_type": "stream",
     "text": [
      "Requirement already satisfied (use --upgrade to upgrade): chainerrl in /anaconda/envs/py35/lib/python3.5/site-packages\n",
      "Requirement already satisfied (use --upgrade to upgrade): cached-property in /anaconda/envs/py35/lib/python3.5/site-packages (from chainerrl)\n",
      "Requirement already satisfied (use --upgrade to upgrade): chainer>=2.0.0 in /anaconda/envs/py35/lib/python3.5/site-packages (from chainerrl)\n",
      "Requirement already satisfied (use --upgrade to upgrade): gym>=0.7.3 in /anaconda/envs/py35/lib/python3.5/site-packages (from chainerrl)\n",
      "Requirement already satisfied (use --upgrade to upgrade): numpy>=1.10.4 in /anaconda/envs/py35/lib/python3.5/site-packages (from chainerrl)\n",
      "Requirement already satisfied (use --upgrade to upgrade): pillow in /anaconda/envs/py35/lib/python3.5/site-packages (from chainerrl)\n",
      "Requirement already satisfied (use --upgrade to upgrade): scipy in /anaconda/envs/py35/lib/python3.5/site-packages (from chainerrl)\n",
      "Requirement already satisfied (use --upgrade to upgrade): future in /anaconda/envs/py35/lib/python3.5/site-packages (from chainerrl)\n",
      "Requirement already satisfied (use --upgrade to upgrade): nose in /anaconda/envs/py35/lib/python3.5/site-packages (from chainer>=2.0.0->chainerrl)\n",
      "Requirement already satisfied (use --upgrade to upgrade): mock in /anaconda/envs/py35/lib/python3.5/site-packages (from chainer>=2.0.0->chainerrl)\n",
      "Requirement already satisfied (use --upgrade to upgrade): six>=1.9.0 in /anaconda/envs/py35/lib/python3.5/site-packages (from chainer>=2.0.0->chainerrl)\n",
      "Requirement already satisfied (use --upgrade to upgrade): filelock in /anaconda/envs/py35/lib/python3.5/site-packages (from chainer>=2.0.0->chainerrl)\n",
      "Requirement already satisfied (use --upgrade to upgrade): protobuf>=3.0.0 in /anaconda/envs/py35/lib/python3.5/site-packages (from chainer>=2.0.0->chainerrl)\n",
      "Requirement already satisfied (use --upgrade to upgrade): pyglet>=1.2.0 in /anaconda/envs/py35/lib/python3.5/site-packages (from gym>=0.7.3->chainerrl)\n",
      "Requirement already satisfied (use --upgrade to upgrade): requests>=2.0 in /anaconda/envs/py35/lib/python3.5/site-packages (from gym>=0.7.3->chainerrl)\n",
      "Requirement already satisfied (use --upgrade to upgrade): pbr>=0.11 in /anaconda/envs/py35/lib/python3.5/site-packages (from mock->chainer>=2.0.0->chainerrl)\n",
      "Requirement already satisfied (use --upgrade to upgrade): setuptools in /anaconda/envs/py35/lib/python3.5/site-packages (from protobuf>=3.0.0->chainer>=2.0.0->chainerrl)\n",
      "Requirement already satisfied (use --upgrade to upgrade): urllib3<1.23,>=1.21.1 in /anaconda/envs/py35/lib/python3.5/site-packages (from requests>=2.0->gym>=0.7.3->chainerrl)\n",
      "Requirement already satisfied (use --upgrade to upgrade): certifi>=2017.4.17 in /anaconda/envs/py35/lib/python3.5/site-packages (from requests>=2.0->gym>=0.7.3->chainerrl)\n",
      "Requirement already satisfied (use --upgrade to upgrade): idna<2.6,>=2.5 in /anaconda/envs/py35/lib/python3.5/site-packages (from requests>=2.0->gym>=0.7.3->chainerrl)\n",
      "Requirement already satisfied (use --upgrade to upgrade): chardet<3.1.0,>=3.0.2 in /anaconda/envs/py35/lib/python3.5/site-packages (from requests>=2.0->gym>=0.7.3->chainerrl)\n"
     ]
    },
    {
     "name": "stderr",
     "output_type": "stream",
     "text": [
      "You are using pip version 8.1.2, however version 9.0.1 is available.\n",
      "You should consider upgrading via the 'pip install --upgrade pip' command.\n"
     ]
    }
   ],
   "source": [
    "%%bash\n",
    "pip install chainerrl"
   ]
  },
  {
   "cell_type": "markdown",
   "metadata": {
    "deletable": true,
    "editable": true
   },
   "source": [
    "If you have already installed ChainerRL, let's begin!\n",
    "\n",
    "First, you need to import necessary modules. The module name of ChainerRL is `chainerrl`. Let's import `gym` and `numpy` as well since they are used later."
   ]
  },
  {
   "cell_type": "code",
   "execution_count": 2,
   "metadata": {
    "collapsed": false,
    "deletable": true,
    "editable": true
   },
   "outputs": [],
   "source": [
    "import chainer\n",
    "import chainer.functions as F\n",
    "import chainer.links as L\n",
    "import chainerrl\n",
    "import gym\n",
    "import numpy as np"
   ]
  },
  {
   "cell_type": "markdown",
   "metadata": {
    "deletable": true,
    "editable": true
   },
   "source": [
    "ChainerRL can be used for any problems if they are modeled as \"environments\". [OpenAI Gym](https://github.com/openai/gym) provides various kinds of benchmark environments and defines the common interface among them. ChainerRL uses a subset of the interface. Specifically, an environment must define its observation space and action space and have at least two methods: `reset` and `step`.\n",
    "\n",
    "- `env.reset` will reset the environment to the initial state and return the initial observation.\n",
    "- `env.step` will execute a given action, move to the next state and return four values:\n",
    "  - a next observation\n",
    "  - a scalar reward\n",
    "  - a boolean value indicating whether the current state is terminal or not\n",
    "  - additional information\n",
    "- `env.render` will render the current state.\n",
    "\n",
    "Let's try 'CartPole-v0', which is a classic control problem. You can see below that its observation space consists of four real numbers while its action space consists of two discrete actions."
   ]
  },
  {
   "cell_type": "code",
   "execution_count": 3,
   "metadata": {
    "collapsed": false,
    "deletable": true,
    "editable": true,
    "scrolled": false
   },
   "outputs": [
    {
     "name": "stderr",
     "output_type": "stream",
     "text": [
      "[2017-09-22 18:12:31,381] Making new env: CartPole-v0\n"
     ]
    },
    {
     "name": "stdout",
     "output_type": "stream",
     "text": [
      "observation space: Box(4,)\n",
      "action space: Discrete(2)\n",
      "initial observation: [ 0.01598489 -0.04786404  0.04895463 -0.02245498]\n",
      "next observation: [ 0.01502761 -0.24365262  0.04850553  0.28526297]\n",
      "reward: 1.0\n",
      "done: False\n",
      "info: {}\n"
     ]
    }
   ],
   "source": [
    "env = gym.make('CartPole-v0')\n",
    "print('observation space:', env.observation_space)\n",
    "print('action space:', env.action_space)\n",
    "\n",
    "obs = env.reset()\n",
    "env.render(close=True)\n",
    "print('initial observation:', obs)\n",
    "\n",
    "action = env.action_space.sample()\n",
    "obs, r, done, info = env.step(action)\n",
    "print('next observation:', obs)\n",
    "print('reward:', r)\n",
    "print('done:', done)\n",
    "print('info:', info)"
   ]
  },
  {
   "cell_type": "markdown",
   "metadata": {
    "deletable": true,
    "editable": true
   },
   "source": [
    "Now you have defined your environment. Next, you need to define an agent, which will learn through interactions with the environment.\n",
    "\n",
    "ChainerRL provides various agents, each of which implements a deep reinforcement learning algorithm.\n",
    "\n",
    "To use [DQN (Deep Q-Network)](http://dx.doi.org/10.1038/nature14236), you need to define a Q-function that receives an observation and returns an expected future return for each action the agent can take. In ChainerRL, you can define your Q-function as `chainer.Link` as below. Note that the outputs are wrapped by `chainerrl.action_value.DiscreteActionValue`, which implements `chainerrl.action_value.ActionValue`. By wrapping the outputs of Q-functions, ChainerRL can treat discrete-action Q-functions like this and [NAFs (Normalized Advantage Functions)](https://arxiv.org/abs/1603.00748) in the same way."
   ]
  },
  {
   "cell_type": "code",
   "execution_count": 4,
   "metadata": {
    "collapsed": false,
    "deletable": true,
    "editable": true
   },
   "outputs": [],
   "source": [
    "class QFunction(chainer.Chain):\n",
    "\n",
    "    def __init__(self, obs_size, n_actions, n_hidden_channels=50):\n",
    "        super().__init__(\n",
    "            l0=L.Linear(obs_size, n_hidden_channels),\n",
    "            l1=L.Linear(n_hidden_channels, n_hidden_channels),\n",
    "            l2=L.Linear(n_hidden_channels, n_actions))\n",
    "\n",
    "    def __call__(self, x, test=False):\n",
    "        \"\"\"\n",
    "        Args:\n",
    "            x (ndarray or chainer.Variable): An observation\n",
    "            test (bool): a flag indicating whether it is in test mode\n",
    "        \"\"\"\n",
    "        h = F.tanh(self.l0(x))\n",
    "        h = F.tanh(self.l1(h))\n",
    "        return chainerrl.action_value.DiscreteActionValue(self.l2(h))\n",
    "\n",
    "obs_size = env.observation_space.shape[0]\n",
    "n_actions = env.action_space.n\n",
    "q_func = QFunction(obs_size, n_actions)"
   ]
  },
  {
   "cell_type": "markdown",
   "metadata": {
    "deletable": true,
    "editable": true
   },
   "source": [
    "If you want to use CUDA for computation, as usual as in Chainer, call `to_gpu`."
   ]
  },
  {
   "cell_type": "code",
   "execution_count": 5,
   "metadata": {
    "collapsed": true,
    "deletable": true,
    "editable": true
   },
   "outputs": [],
   "source": [
    "# Uncomment to use CUDA\n",
    "# q_func.to_gpu(0)"
   ]
  },
  {
   "cell_type": "markdown",
   "metadata": {
    "deletable": true,
    "editable": true
   },
   "source": [
    "You can also use ChainerRL's predefined Q-functions."
   ]
  },
  {
   "cell_type": "code",
   "execution_count": 6,
   "metadata": {
    "collapsed": false,
    "deletable": true,
    "editable": true
   },
   "outputs": [],
   "source": [
    "_q_func = chainerrl.q_functions.FCStateQFunctionWithDiscreteAction(\n",
    "    obs_size, n_actions,\n",
    "    n_hidden_layers=2, n_hidden_channels=50)"
   ]
  },
  {
   "cell_type": "markdown",
   "metadata": {
    "deletable": true,
    "editable": true
   },
   "source": [
    "As in Chainer, `chainer.Optimizer` is used to update models."
   ]
  },
  {
   "cell_type": "code",
   "execution_count": 7,
   "metadata": {
    "collapsed": false,
    "deletable": true,
    "editable": true
   },
   "outputs": [],
   "source": [
    "# Use Adam to optimize q_func. eps=1e-2 is for stability.\n",
    "optimizer = chainer.optimizers.Adam(eps=1e-2)\n",
    "optimizer.setup(q_func)"
   ]
  },
  {
   "cell_type": "markdown",
   "metadata": {
    "deletable": true,
    "editable": true
   },
   "source": [
    "A Q-function and its optimizer are used by a DQN agent. To create a DQN agent, you need to specify a bit more parameters and configurations."
   ]
  },
  {
   "cell_type": "code",
   "execution_count": 8,
   "metadata": {
    "collapsed": false,
    "deletable": true,
    "editable": true
   },
   "outputs": [],
   "source": [
    "# Set the discount factor that discounts future rewards.\n",
    "gamma = 0.95\n",
    "\n",
    "# Use epsilon-greedy for exploration\n",
    "explorer = chainerrl.explorers.ConstantEpsilonGreedy(\n",
    "    epsilon=0.3, random_action_func=env.action_space.sample)\n",
    "\n",
    "# DQN uses Experience Replay.\n",
    "# Specify a replay buffer and its capacity.\n",
    "replay_buffer = chainerrl.replay_buffer.ReplayBuffer(capacity=10 ** 6)\n",
    "\n",
    "# Since observations from CartPole-v0 is numpy.float64 while\n",
    "# Chainer only accepts numpy.float32 by default, specify\n",
    "# a converter as a feature extractor function phi.\n",
    "phi = lambda x: x.astype(np.float32, copy=False)\n",
    "\n",
    "# Now create an agent that will interact with the environment.\n",
    "agent = chainerrl.agents.DoubleDQN(\n",
    "    q_func, optimizer, replay_buffer, gamma, explorer,\n",
    "    replay_start_size=500, update_interval=1,\n",
    "    target_update_interval=100, phi=phi)"
   ]
  },
  {
   "cell_type": "markdown",
   "metadata": {
    "deletable": true,
    "editable": true
   },
   "source": [
    "Now you have an agent and an environment. It's time to start reinforcement learning!\n",
    "\n",
    "In training, use `agent.act_and_train` to select exploratory actions. `agent.stop_episode_and_train` must be called after finishing an episode. You can get training statistics of the agent via `agent.get_statistics`."
   ]
  },
  {
   "cell_type": "code",
   "execution_count": 9,
   "metadata": {
    "collapsed": false,
    "deletable": true,
    "editable": true,
    "scrolled": true
   },
   "outputs": [
    {
     "name": "stdout",
     "output_type": "stream",
     "text": [
      "episode: 10 R: 97.0 statistics: [('average_q', 0.058893738476201385), ('average_loss', 0.18138263018559467)]\n",
      "episode: 20 R: 63.0 statistics: [('average_q', 2.0802591992905577), ('average_loss', 0.0897836629740802)]\n",
      "episode: 30 R: 41.0 statistics: [('average_q', 4.81617006757315), ('average_loss', 0.12966390424509905)]\n",
      "episode: 40 R: 111.0 statistics: [('average_q', 10.122692168807246), ('average_loss', 0.15292605559419314)]\n",
      "episode: 50 R: 130.0 statistics: [('average_q', 14.785695395959099), ('average_loss', 0.12713560963247647)]\n",
      "episode: 60 R: 82.0 statistics: [('average_q', 17.324237288805946), ('average_loss', 0.18400550305760424)]\n",
      "episode: 70 R: 200.0 statistics: [('average_q', 18.73286990059608), ('average_loss', 0.13235891642548422)]\n",
      "episode: 80 R: 121.0 statistics: [('average_q', 19.567775209048932), ('average_loss', 0.17664351577428922)]\n",
      "episode: 90 R: 200.0 statistics: [('average_q', 19.997917005313855), ('average_loss', 0.13405588845232386)]\n",
      "episode: 100 R: 153.0 statistics: [('average_q', 20.04973453310654), ('average_loss', 0.1281427138672502)]\n",
      "episode: 110 R: 117.0 statistics: [('average_q', 20.121570320652747), ('average_loss', 0.1495170896919363)]\n",
      "episode: 120 R: 200.0 statistics: [('average_q', 20.179262899461555), ('average_loss', 0.1035834465334788)]\n",
      "episode: 130 R: 200.0 statistics: [('average_q', 19.724081612040223), ('average_loss', 0.12884337888479672)]\n",
      "episode: 140 R: 200.0 statistics: [('average_q', 20.009027078313512), ('average_loss', 0.13972164715957996)]\n",
      "episode: 150 R: 120.0 statistics: [('average_q', 20.130824804863597), ('average_loss', 0.12404633710403422)]\n",
      "episode: 160 R: 194.0 statistics: [('average_q', 20.11055679840644), ('average_loss', 0.10320037836451532)]\n",
      "episode: 170 R: 180.0 statistics: [('average_q', 20.072220028924004), ('average_loss', 0.11493565492850745)]\n",
      "episode: 180 R: 200.0 statistics: [('average_q', 20.112346625785822), ('average_loss', 0.1660919574419575)]\n",
      "episode: 190 R: 200.0 statistics: [('average_q', 20.19351467358509), ('average_loss', 0.13096379220442939)]\n",
      "episode: 200 R: 200.0 statistics: [('average_q', 20.210820950721843), ('average_loss', 0.1200817838277789)]\n",
      "Finished.\n"
     ]
    }
   ],
   "source": [
    "n_episodes = 200\n",
    "max_episode_len = 200\n",
    "for i in range(1, n_episodes + 1):\n",
    "    obs = env.reset()\n",
    "    reward = 0\n",
    "    done = False\n",
    "    R = 0  # return (sum of rewards)\n",
    "    t = 0  # time step\n",
    "    while not done and t < max_episode_len:\n",
    "        # Uncomment to watch the behaviour\n",
    "        # env.render()\n",
    "        action = agent.act_and_train(obs, reward)\n",
    "        obs, reward, done, _ = env.step(action)\n",
    "        R += reward\n",
    "        t += 1\n",
    "    if i % 10 == 0:\n",
    "        print('episode:', i,\n",
    "              'R:', R,\n",
    "              'statistics:', agent.get_statistics())\n",
    "    agent.stop_episode_and_train(obs, reward, done)\n",
    "print('Finished.')"
   ]
  },
  {
   "cell_type": "markdown",
   "metadata": {
    "collapsed": false,
    "deletable": true,
    "editable": true
   },
   "source": [
    "Now you finished training the agent. How good is the agent now? You can test it by using `agent.act` and `agent.stop_episode` instead. Exploration such as epsilon-greedy is not used anymore."
   ]
  },
  {
   "cell_type": "code",
   "execution_count": 10,
   "metadata": {
    "collapsed": false,
    "deletable": true,
    "editable": true
   },
   "outputs": [
    {
     "name": "stdout",
     "output_type": "stream",
     "text": [
      "test episode: 0 R: 200.0\n",
      "test episode: 1 R: 200.0\n",
      "test episode: 2 R: 200.0\n",
      "test episode: 3 R: 200.0\n",
      "test episode: 4 R: 200.0\n",
      "test episode: 5 R: 200.0\n",
      "test episode: 6 R: 200.0\n",
      "test episode: 7 R: 200.0\n",
      "test episode: 8 R: 200.0\n",
      "test episode: 9 R: 200.0\n"
     ]
    }
   ],
   "source": [
    "for i in range(10):\n",
    "    obs = env.reset()\n",
    "    done = False\n",
    "    R = 0\n",
    "    t = 0\n",
    "    while not done and t < 200:\n",
    "        env.render(close=True)\n",
    "        action = agent.act(obs)\n",
    "        obs, r, done, _ = env.step(action)\n",
    "        R += r\n",
    "        t += 1\n",
    "    print('test episode:', i, 'R:', R)\n",
    "    agent.stop_episode()"
   ]
  },
  {
   "cell_type": "markdown",
   "metadata": {
    "collapsed": false,
    "deletable": true,
    "editable": true
   },
   "source": [
    "If test scores are good enough, the only remaining task is to save the agent so that you can reuse it. What you need to do is to simply call `agent.save` to save the agent, then `agent.load` to load the saved agent."
   ]
  },
  {
   "cell_type": "code",
   "execution_count": 11,
   "metadata": {
    "collapsed": false,
    "deletable": true,
    "editable": true
   },
   "outputs": [],
   "source": [
    "# Save an agent to the 'agent' directory\n",
    "agent.save('agent')\n",
    "\n",
    "# Uncomment to load an agent from the 'agent' directory\n",
    "# agent.load('agent')"
   ]
  },
  {
   "cell_type": "markdown",
   "metadata": {
    "collapsed": false,
    "deletable": true,
    "editable": true
   },
   "source": [
    "RL completed!\n",
    "\n",
    "But writing code like this every time you use RL might be boring. So, ChainerRL has utility functions that do these things."
   ]
  },
  {
   "cell_type": "code",
   "execution_count": 12,
   "metadata": {
    "collapsed": false,
    "deletable": true,
    "editable": true
   },
   "outputs": [
    {
     "name": "stdout",
     "output_type": "stream",
     "text": [
      "outdir:result step:200 episode:0 R:200.0\n",
      "statistics:[('average_q', 20.06726372837214), ('average_loss', 0.1308987257292319)]\n",
      "outdir:result step:400 episode:1 R:200.0\n",
      "statistics:[('average_q', 20.080866285209158), ('average_loss', 0.14988285404251536)]\n",
      "outdir:result step:577 episode:2 R:177.0\n",
      "statistics:[('average_q', 20.090750815323375), ('average_loss', 0.14110350416722311)]\n",
      "outdir:result step:714 episode:3 R:137.0\n",
      "statistics:[('average_q', 20.092869340333497), ('average_loss', 0.11464678425082718)]\n",
      "outdir:result step:914 episode:4 R:200.0\n",
      "statistics:[('average_q', 20.09150234487373), ('average_loss', 0.15405946864314643)]\n",
      "outdir:result step:1114 episode:5 R:200.0\n",
      "statistics:[('average_q', 20.108004229611105), ('average_loss', 0.09719569566410546)]\n",
      "test episode: 0 R: 200.0\n",
      "test episode: 1 R: 200.0\n",
      "test episode: 2 R: 200.0\n",
      "test episode: 3 R: 200.0\n",
      "test episode: 4 R: 200.0\n",
      "test episode: 5 R: 200.0\n",
      "test episode: 6 R: 200.0\n",
      "test episode: 7 R: 200.0\n",
      "test episode: 8 R: 200.0\n",
      "test episode: 9 R: 200.0\n",
      "The best score is updated -3.40282e+38 -> 200.0\n",
      "Saved the agent to result/1114\n",
      "outdir:result step:1314 episode:6 R:200.0\n",
      "statistics:[('average_q', 20.181557914017237), ('average_loss', 0.1086266889858197)]\n",
      "outdir:result step:1514 episode:7 R:200.0\n",
      "statistics:[('average_q', 20.185964758344195), ('average_loss', 0.1316366935447384)]\n",
      "outdir:result step:1714 episode:8 R:200.0\n",
      "statistics:[('average_q', 20.188337251608214), ('average_loss', 0.11519049448373489)]\n",
      "outdir:result step:1914 episode:9 R:200.0\n",
      "statistics:[('average_q', 20.195493986034112), ('average_loss', 0.10945815863379918)]\n",
      "outdir:result step:2000 episode:10 R:86.0\n",
      "statistics:[('average_q', 20.199397381443717), ('average_loss', 0.10220870662659434)]\n",
      "test episode: 0 R: 200.0\n",
      "test episode: 1 R: 200.0\n",
      "test episode: 2 R: 200.0\n",
      "test episode: 3 R: 200.0\n",
      "test episode: 4 R: 200.0\n",
      "test episode: 5 R: 200.0\n",
      "test episode: 6 R: 200.0\n",
      "test episode: 7 R: 200.0\n",
      "test episode: 8 R: 200.0\n",
      "test episode: 9 R: 200.0\n",
      "Saved the agent to result/2000_finish\n"
     ]
    }
   ],
   "source": [
    "# Set up the logger to print info messages for understandability.\n",
    "import logging\n",
    "import sys\n",
    "gym.undo_logger_setup()  # Turn off gym's default logger settings\n",
    "logging.basicConfig(level=logging.INFO, stream=sys.stdout, format='')\n",
    "\n",
    "chainerrl.experiments.train_agent_with_evaluation(\n",
    "    agent, env,\n",
    "    steps=2000,           # Train the agent for 2000 steps\n",
    "    eval_n_runs=10,       # 10 episodes are sampled for each evaluation\n",
    "    max_episode_len=200,  # Maximum length of each episodes\n",
    "    eval_interval=1000,   # Evaluate the agent after every 1000 steps\n",
    "    outdir='result')      # Save everything to 'result' directory"
   ]
  },
  {
   "cell_type": "markdown",
   "metadata": {
    "collapsed": false,
    "deletable": true,
    "editable": true
   },
   "source": [
    "That's all of the ChainerRL quickstart guide. To know more about ChainerRL, please look into the `examples` directory and read and run the examples. Thank you!"
   ]
  }
 ],
 "metadata": {
  "kernelspec": {
   "display_name": "Python 3",
   "language": "python",
   "name": "python3"
  },
  "language_info": {
   "codemirror_mode": {
    "name": "ipython",
    "version": 3
   },
   "file_extension": ".py",
   "mimetype": "text/x-python",
   "name": "python",
   "nbconvert_exporter": "python",
   "pygments_lexer": "ipython3",
   "version": "3.5.2"
  }
 },
 "nbformat": 4,
 "nbformat_minor": 0
}
