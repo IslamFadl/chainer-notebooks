{
 "cells": [
  {
   "cell_type": "markdown",
   "metadata": {},
   "source": [
    "# Chainer for Theano Users\n",
    "\n",
    "As we mentioned [here](https://chainer.org/general/2017/09/29/thank-you-theano.html), Theano stops the development in a few weeks. Many spects of Chainer were inspired by Theano's clean interface design, so that we would like to introduce Chainer here by comparing the difference from Theano. We believe that this article assists the Theano users to move to Chainer quickly."
   ]
  },
  {
   "cell_type": "markdown",
   "metadata": {},
   "source": [
    "In this post, we asume that the modules below have been imported."
   ]
  },
  {
   "cell_type": "code",
   "execution_count": 3,
   "metadata": {},
   "outputs": [],
   "source": [
    "import numpy as np"
   ]
  },
  {
   "cell_type": "code",
   "execution_count": 1,
   "metadata": {},
   "outputs": [],
   "source": [
    "import theano\n",
    "import theano.tensor as T"
   ]
  },
  {
   "cell_type": "code",
   "execution_count": 50,
   "metadata": {},
   "outputs": [],
   "source": [
    "import chainer\n",
    "import chainer.functions as F\n",
    "import chainer.links as L"
   ]
  },
  {
   "cell_type": "markdown",
   "metadata": {},
   "source": [
    "## Define a parametric function\n",
    "\n",
    "A neural network basically has many parametric functions and activation functions which are called \"layers\" commonly. Let's see the difference between how to create a new parametric function in Theano and Chainer. In this example, to show the way to do the same thing with the two different libraries, we show how to define the 2D convolution function. But Chainer has `chainer.links.Convolution2D`, so that you don't need to write the code below to use 2D convolution as a building block of a network actually."
   ]
  },
  {
   "cell_type": "markdown",
   "metadata": {},
   "source": [
    "### Theano:"
   ]
  },
  {
   "cell_type": "code",
   "execution_count": 42,
   "metadata": {},
   "outputs": [],
   "source": [
    "class TheanoConvolutionLayer(object):\n",
    "    \n",
    "    def __init__(self, input, filter_shape, image_shape):\n",
    "        # Prepare initial values of the parameter W\n",
    "        spatial_dim = np.prod(filter_shape[2:])\n",
    "        fan_in = filter_shape[1] * spatial_dim\n",
    "        fan_out = filter_shape[0] * spatial_dim\n",
    "        scale = np.sqrt(3. / fan_in)\n",
    "        \n",
    "        # Create the parameter W\n",
    "        W_init = np.random.uniform(-scale, scale, filter_shape)\n",
    "        self.W = theano.shared(W_init.astype(np.float32), borrow=True)\n",
    "\n",
    "        # Create the paramter b\n",
    "        b_init = np.zeros((filter_shape[0],))\n",
    "        self.b = theano.shared(b_init.astype(np.float32), borrow=True)\n",
    "\n",
    "        # Describe the convolution operation\n",
    "        conv_out = T.nnet.conv2d(\n",
    "            input=input,\n",
    "            filters=self.W,\n",
    "            filter_shape=filter_shape,\n",
    "            input_shape=image_shape)\n",
    "        \n",
    "        # Add a bias\n",
    "        self.output = conv_out + self.b.dimshuffle('x', 0, 'x', 'x')\n",
    "        \n",
    "        # Store paramters\n",
    "        self.params = [self.W, self.b]"
   ]
  },
  {
   "cell_type": "markdown",
   "metadata": {},
   "source": [
    "How can we use this class? In Theano, it defines the computation as code using symbols, but doesn't perform actual computation at that time. Namely, it defines the computational graph before run. To use the defined computational graph, we need to define another operator using `theano.function` which takes input variables and output variable."
   ]
  },
  {
   "cell_type": "code",
   "execution_count": 43,
   "metadata": {},
   "outputs": [],
   "source": [
    "batchsize = 32\n",
    "input_shape = (batchsize, 1, 28, 28)\n",
    "filter_shape = (6, 1, 5, 5)\n",
    "\n",
    "# Create a tensor that represents a minibatch\n",
    "x = T.fmatrix('x')\n",
    "input = x.reshape(input_shape)\n",
    "\n",
    "conv = TheanoConvolutionLayer(input, filter_shape, input_shape)\n",
    "f = theano.function([input], conv.output)"
   ]
  },
  {
   "cell_type": "code",
   "execution_count": 48,
   "metadata": {},
   "outputs": [
    {
     "name": "stdout",
     "output_type": "stream",
     "text": [
      "(32, 6, 24, 24) <class 'numpy.ndarray'>\n"
     ]
    }
   ],
   "source": [
    "actual_x = np.random.rand(32, 1, 28, 28).astype(np.float32)\n",
    "\n",
    "y = f(actual_x)\n",
    "\n",
    "print(y.shape, type(y))"
   ]
  },
  {
   "cell_type": "markdown",
   "metadata": {},
   "source": [
    "### Chainer:"
   ]
  },
  {
   "cell_type": "code",
   "execution_count": 53,
   "metadata": {},
   "outputs": [],
   "source": [
    "class ChainerConvolutionLayer(chainer.Link):\n",
    "    \n",
    "    def __init__(self, filter_shape):\n",
    "        super().__init__()\n",
    "        with self.init_scope():\n",
    "            # Specify the way of initialize\n",
    "            W_init = chainer.initializers.LeCunUniform()\n",
    "            b_init = chainer.initializers.Zero()\n",
    "        \n",
    "            # Create a parameter object\n",
    "            self.W = chainer.Parameter(W_init, filter_shape)          \n",
    "            self.b = chainer.Parameter(b_init, filter_shape[0])\n",
    "            \n",
    "    def __call__(self, x):\n",
    "        return F.convolution_2d(x, self.W, self.b)"
   ]
  },
  {
   "cell_type": "code",
   "execution_count": 55,
   "metadata": {},
   "outputs": [
    {
     "name": "stdout",
     "output_type": "stream",
     "text": [
      "(32, 6, 24, 24) <class 'chainer.variable.Variable'> <class 'numpy.ndarray'>\n"
     ]
    }
   ],
   "source": [
    "conv = ChainerConvolutionLayer(filter_shape)\n",
    "\n",
    "y = conv(actual_x)\n",
    "\n",
    "print(y.shape, type(y), type(y.array))"
   ]
  }
 ],
 "metadata": {
  "kernelspec": {
   "display_name": "Python 3",
   "language": "python",
   "name": "python3"
  },
  "language_info": {
   "codemirror_mode": {
    "name": "ipython",
    "version": 3
   },
   "file_extension": ".py",
   "mimetype": "text/x-python",
   "name": "python",
   "nbconvert_exporter": "python",
   "pygments_lexer": "ipython3",
   "version": "3.5.2"
  }
 },
 "nbformat": 4,
 "nbformat_minor": 2
}
