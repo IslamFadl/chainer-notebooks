{
 "cells": [
  {
   "cell_type": "markdown",
   "metadata": {},
   "source": [
    "# Chainer for Theano Users\n",
    "\n",
    "As we mentioned [here](https://chainer.org/general/2017/09/29/thank-you-theano.html), Theano stops the development in a few weeks. Many spects of Chainer were inspired by Theano's clean interface design, so that we would like to introduce Chainer here by comparing the difference from Theano. We believe that this article assists the Theano users to move to Chainer quickly."
   ]
  },
  {
   "cell_type": "markdown",
   "metadata": {},
   "source": [
    "In this post, we asume that the modules below have been imported."
   ]
  },
  {
   "cell_type": "code",
   "execution_count": 1,
   "metadata": {
    "collapsed": true
   },
   "outputs": [],
   "source": [
    "import numpy as np"
   ]
  },
  {
   "cell_type": "code",
   "execution_count": 2,
   "metadata": {
    "collapsed": true
   },
   "outputs": [],
   "source": [
    "import theano\n",
    "import theano.tensor as T"
   ]
  },
  {
   "cell_type": "code",
   "execution_count": 3,
   "metadata": {
    "collapsed": true
   },
   "outputs": [],
   "source": [
    "import chainer\n",
    "import chainer.functions as F\n",
    "import chainer.links as L"
   ]
  },
  {
   "cell_type": "markdown",
   "metadata": {},
   "source": [
    "## Define a parametric function\n",
    "\n",
    "A neural network basically has many parametric functions and activation functions which are called \"layers\" commonly. Let's see the difference between how to create a new parametric function in Theano and Chainer. In this example, to show the way to do the same thing with the two different libraries, we show how to define the 2D convolution function. But Chainer has `chainer.links.Convolution2D`, so that you don't need to write the code below to use 2D convolution as a building block of a network actually."
   ]
  },
  {
   "cell_type": "markdown",
   "metadata": {},
   "source": [
    "### Theano:"
   ]
  },
  {
   "cell_type": "code",
   "execution_count": 4,
   "metadata": {
    "collapsed": true
   },
   "outputs": [],
   "source": [
    "class TheanoConvolutionLayer(object):\n",
    "    \n",
    "    def __init__(self, input, filter_shape, image_shape):\n",
    "        # Prepare initial values of the parameter W\n",
    "        spatial_dim = np.prod(filter_shape[2:])\n",
    "        fan_in = filter_shape[1] * spatial_dim\n",
    "        fan_out = filter_shape[0] * spatial_dim\n",
    "        scale = np.sqrt(3. / fan_in)\n",
    "        \n",
    "        # Create the parameter W\n",
    "        W_init = np.random.uniform(-scale, scale, filter_shape)\n",
    "        self.W = theano.shared(W_init.astype(np.float32), borrow=True)\n",
    "\n",
    "        # Create the paramter b\n",
    "        b_init = np.zeros((filter_shape[0],))\n",
    "        self.b = theano.shared(b_init.astype(np.float32), borrow=True)\n",
    "\n",
    "        # Describe the convolution operation\n",
    "        conv_out = T.nnet.conv2d(\n",
    "            input=input,\n",
    "            filters=self.W,\n",
    "            filter_shape=filter_shape,\n",
    "            input_shape=image_shape)\n",
    "        \n",
    "        # Add a bias\n",
    "        self.output = conv_out + self.b.dimshuffle('x', 0, 'x', 'x')\n",
    "        \n",
    "        # Store paramters\n",
    "        self.params = [self.W, self.b]"
   ]
  },
  {
   "cell_type": "markdown",
   "metadata": {},
   "source": [
    "How can we use this class? In Theano, it defines the computation as code using symbols, but doesn't perform actual computation at that time. Namely, it defines the computational graph before run. To use the defined computational graph, we need to define another operator using `theano.function` which takes input variables and output variable."
   ]
  },
  {
   "cell_type": "code",
   "execution_count": 12,
   "metadata": {
    "collapsed": true
   },
   "outputs": [],
   "source": [
    "batchsize = 32\n",
    "input_shape = (batchsize, 1, 28, 28)\n",
    "filter_shape = (6, 1, 5, 5)\n",
    "\n",
    "# Create a tensor that represents a minibatch\n",
    "x = T.fmatrix('x')\n",
    "input = x.reshape(input_shape)\n",
    "\n",
    "conv = TheanoConvolutionLayer(input, filter_shape, input_shape)\n",
    "f = theano.function([input], conv.output)"
   ]
  },
  {
   "cell_type": "markdown",
   "metadata": {},
   "source": [
    "`conv` is the definition of how to compute the output from the first argument `input`, and `f` is the actual operator. You can pass values to `f` to compute the result of convolution like this:"
   ]
  },
  {
   "cell_type": "code",
   "execution_count": 13,
   "metadata": {},
   "outputs": [
    {
     "name": "stdout",
     "output_type": "stream",
     "text": [
      "(32, 6, 24, 24) <class 'numpy.ndarray'>\n"
     ]
    }
   ],
   "source": [
    "x_data = np.random.rand(32, 1, 28, 28).astype(np.float32)\n",
    "\n",
    "y = f(x_data)\n",
    "\n",
    "print(y.shape, type(y))"
   ]
  },
  {
   "cell_type": "markdown",
   "metadata": {},
   "source": [
    "### Chainer:\n",
    "\n",
    "What about the case in Chainer? Theano is a more general framework for scientific calculation, while Chainer focuses on neural networks. So, Chainer has many high-level APIs that enable users to write the building blocks of neural networks easier. Well, how to write the same convolution operator in Chainer?"
   ]
  },
  {
   "cell_type": "code",
   "execution_count": 14,
   "metadata": {
    "collapsed": true
   },
   "outputs": [],
   "source": [
    "class ChainerConvolutionLayer(chainer.Link):\n",
    "    \n",
    "    def __init__(self, filter_shape):\n",
    "        super().__init__()\n",
    "        with self.init_scope():\n",
    "            # Specify the way of initialize\n",
    "            W_init = chainer.initializers.LeCunUniform()\n",
    "            b_init = chainer.initializers.Zero()\n",
    "        \n",
    "            # Create a parameter object\n",
    "            self.W = chainer.Parameter(W_init, filter_shape)          \n",
    "            self.b = chainer.Parameter(b_init, filter_shape[0])\n",
    "            \n",
    "    def __call__(self, x):\n",
    "        return F.convolution_2d(x, self.W, self.b)"
   ]
  },
  {
   "cell_type": "markdown",
   "metadata": {},
   "source": [
    "Actually, as we said at the top of this article, Chainer has pre-implemented `chainer.links.Convolution2D` class for convolution. So, you don't need to implement the code above by yourself, but it shows how to do the same thing written in Theano above.\n",
    "\n",
    "You can create your own parametric function by defining a class inherited from `chainer.Link` as shown in the above. What computation will be applied to the input is described in `__call__` method.\n",
    "\n",
    "Then, how to use this class?"
   ]
  },
  {
   "cell_type": "code",
   "execution_count": 15,
   "metadata": {},
   "outputs": [
    {
     "name": "stdout",
     "output_type": "stream",
     "text": [
      "(32, 6, 24, 24) <class 'chainer.variable.Variable'> <class 'numpy.ndarray'>\n"
     ]
    }
   ],
   "source": [
    "chainer_conv = ChainerConvolutionLayer(filter_shape)\n",
    "\n",
    "y = chainer_conv(x_data)\n",
    "\n",
    "print(y.shape, type(y), type(y.array))"
   ]
  },
  {
   "cell_type": "markdown",
   "metadata": {},
   "source": [
    "Chainer provides many functions in `chainer.functions` and it takes NumPy array or `chainer.Variable` object as inputs. You can write arbitrary layer using those functions to make it differentiable. Note that a `chainer.Variable` object contains its actual data in `array` property."
   ]
  },
  {
   "cell_type": "markdown",
   "metadata": {},
   "source": [
    "**NOTE:**\n",
    "You can write the same thing using `L.Convolution2D` like this:"
   ]
  },
  {
   "cell_type": "code",
   "execution_count": 18,
   "metadata": {},
   "outputs": [
    {
     "name": "stdout",
     "output_type": "stream",
     "text": [
      "(32, 6, 24, 24) <class 'chainer.variable.Variable'> <class 'numpy.ndarray'>\n"
     ]
    }
   ],
   "source": [
    "conv_link = L.Convolution2D(in_channels=1, out_channels=6, ksize=(5, 5))\n",
    "\n",
    "y = conv_link(x_data)\n",
    "\n",
    "print(y.shape, type(y), type(y.array))"
   ]
  },
  {
   "cell_type": "markdown",
   "metadata": {},
   "source": [
    "## Use Theano function as a layer in Chainer\n",
    "\n",
    "How to port parametric functions written in Theano to `Link`s in Chainer is shown in the above chapter. But there's an easier way to port **non-parametric functions** from Theano to Chainer.\n",
    "\n",
    "Chainer provides [`TheanoFunction`](https://docs.chainer.org/en/latest/reference/generated/chainer.links.TheanoFunction.html?highlight=Theano) to wrap a Theano function as a `chainer.Link`. What you need to prepare is just the inputs and outputs of the Theano function you want to port to Chainer's `Link`. For example, a convolution function of Theano can be converted to a Chainer's `Link` as followings:"
   ]
  },
  {
   "cell_type": "code",
   "execution_count": 31,
   "metadata": {},
   "outputs": [
    {
     "name": "stderr",
     "output_type": "stream",
     "text": [
      "/home/shunta/.pyenv/versions/anaconda3-4.4.0/lib/python3.6/site-packages/chainer/utils/experimental.py:104: FutureWarning: chainer.links.TheanoFunction is experimental. The interface can change in the future.\n",
      "  FutureWarning)\n"
     ]
    }
   ],
   "source": [
    "x = T.fmatrix().reshape((32, 1, 28, 28))\n",
    "W = T.fmatrix().reshape((6, 1, 5, 5))\n",
    "b = T.fvector().reshape((6,))\n",
    "conv_out = T.nnet.conv2d(x, W) + b.dimshuffle('x', 0, 'x', 'x')\n",
    "\n",
    "f = L.TheanoFunction(inputs=[x, W, b], outputs=[conv_out])"
   ]
  },
  {
   "cell_type": "markdown",
   "metadata": {},
   "source": [
    "It converts the Theano computational graph into Chainer's computational graph! So it's differentiable with the Chainer APIs, and easy to use as a building block of a network written in Chainer. But it takes `W` and `b` as input arguments, so it should be noted that it doesn't keep those parameters inside.\n",
    "\n",
    "Anyway, how to use this ported Theano function in a network in Chainer?"
   ]
  },
  {
   "cell_type": "code",
   "execution_count": 32,
   "metadata": {
    "collapsed": true
   },
   "outputs": [],
   "source": [
    "class MyNetworkWithTheanoConvolution(chainer.Chain):\n",
    "    \n",
    "    def __init__(self, theano_conv):\n",
    "        super().__init__()\n",
    "        self.theano_conv = theano_conv\n",
    "        with self.init_scope():\n",
    "            self.W = chainer.Parameter(shape=(6, 1, 5, 5))\n",
    "            self.b = chainer.Parameter(shape=(6,))\n",
    "            self.l1 = L.Linear(None, 100)\n",
    "            self.l2 = L.Linear(100, 10)\n",
    "            \n",
    "    def __call__(self, x):\n",
    "        h = self.theano_conv(x, self.W, self.b)\n",
    "        h = F.relu(h)\n",
    "        h = self.l1(h)\n",
    "        h = F.relu(h)\n",
    "        return self.l2(h)"
   ]
  },
  {
   "cell_type": "code",
   "execution_count": 33,
   "metadata": {
    "collapsed": true
   },
   "outputs": [],
   "source": [
    "model = MyNetworkWithTheanoConvolution(f)"
   ]
  },
  {
   "cell_type": "code",
   "execution_count": 34,
   "metadata": {
    "scrolled": false
   },
   "outputs": [
    {
     "name": "stderr",
     "output_type": "stream",
     "text": [
      "/home/shunta/.pyenv/versions/anaconda3-4.4.0/lib/python3.6/site-packages/chainer/utils/experimental.py:104: FutureWarning: chainer.functions.TheanoFunction is experimental. The interface can change in the future.\n",
      "  FutureWarning)\n"
     ]
    }
   ],
   "source": [
    "y = model(x_data)"
   ]
  },
  {
   "cell_type": "code",
   "execution_count": 35,
   "metadata": {},
   "outputs": [
    {
     "data": {
      "text/plain": [
       "(32, 10)"
      ]
     },
     "execution_count": 35,
     "metadata": {},
     "output_type": "execute_result"
    }
   ],
   "source": [
    "y.shape"
   ]
  }
 ],
 "metadata": {
  "kernelspec": {
   "display_name": "Python 3",
   "language": "python",
   "name": "python3"
  },
  "language_info": {
   "codemirror_mode": {
    "name": "ipython",
    "version": 3
   },
   "file_extension": ".py",
   "mimetype": "text/x-python",
   "name": "python",
   "nbconvert_exporter": "python",
   "pygments_lexer": "ipython3",
   "version": "3.6.1"
  }
 },
 "nbformat": 4,
 "nbformat_minor": 2
}
